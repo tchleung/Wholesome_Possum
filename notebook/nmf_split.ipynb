{
 "cells": [
  {
   "cell_type": "markdown",
   "metadata": {},
   "source": [
    "# Importing Library"
   ]
  },
  {
   "cell_type": "code",
   "execution_count": 1,
   "metadata": {},
   "outputs": [],
   "source": [
    "import pandas as pd\n",
    "import numpy as np\n",
    "import seaborn as sns\n",
    "%matplotlib inline\n",
    "import matplotlib.pyplot as plt\n",
    "from sklearn.feature_extraction.text import CountVectorizer, TfidfVectorizer\n",
    "from sklearn.decomposition import NMF, LatentDirichletAllocation"
   ]
  },
  {
   "cell_type": "code",
   "execution_count": null,
   "metadata": {},
   "outputs": [],
   "source": [
    "import pyLDAvis\n",
    "import pyLDAvis.sklearn\n",
    "pyLDAvis.enable_notebook()"
   ]
  },
  {
   "cell_type": "code",
   "execution_count": 2,
   "metadata": {},
   "outputs": [],
   "source": [
    "import sys\n",
    "sys.path.insert(0, '../src')\n",
    "from cleaner import clean_text\n",
    "%load_ext autoreload\n",
    "%autoreload 2"
   ]
  },
  {
   "cell_type": "markdown",
   "metadata": {},
   "source": [
    "# Define handy functions"
   ]
  },
  {
   "cell_type": "code",
   "execution_count": null,
   "metadata": {},
   "outputs": [],
   "source": [
    "def show_topics(model, feature_names, no_top_words):\n",
    "    topic_dict = {}\n",
    "    for idx, topic in enumerate(model.components_):\n",
    "        topic_dict[\"Topic %d words\" % (idx)]= ['{}'.format(feature_names[i])\n",
    "                        for i in topic.argsort()[:-no_top_words - 1:-1]]\n",
    "        topic_dict[\"Topic %d weights\" % (idx)]= ['{:.1f}'.format(topic[i])\n",
    "                        for i in topic.argsort()[:-no_top_words - 1:-1]]\n",
    "    return pd.DataFrame(topic_dict)"
   ]
  },
  {
   "cell_type": "code",
   "execution_count": 14,
   "metadata": {},
   "outputs": [],
   "source": [
    "def show_topics2(model, feature_names, n_top_words):\n",
    "    for topic_idx, topic in enumerate(model.components_):\n",
    "        message = \"Topic #%d: \" % topic_idx\n",
    "        message += \" \".join([feature_names[i]\n",
    "                             for i in topic.argsort()[:-n_top_words - 1:-1]])\n",
    "        print(message)\n",
    "    print()"
   ]
  },
  {
   "cell_type": "markdown",
   "metadata": {},
   "source": [
    "# Importing Data"
   ]
  },
  {
   "cell_type": "code",
   "execution_count": 3,
   "metadata": {},
   "outputs": [],
   "source": [
    "df = pd.read_csv('../data/all_comments_with_sentiment.csv')"
   ]
  },
  {
   "cell_type": "markdown",
   "metadata": {},
   "source": [
    "# Prelaunch Focus"
   ]
  },
  {
   "cell_type": "markdown",
   "metadata": {},
   "source": [
    "## Cleaning the text"
   ]
  },
  {
   "cell_type": "code",
   "execution_count": 4,
   "metadata": {},
   "outputs": [
    {
     "name": "stderr",
     "output_type": "stream",
     "text": [
      "/home/ec2-user/anaconda3/lib/python3.7/site-packages/pandas/core/frame.py:3997: SettingWithCopyWarning: \n",
      "A value is trying to be set on a copy of a slice from a DataFrame\n",
      "\n",
      "See the caveats in the documentation: https://pandas.pydata.org/pandas-docs/stable/user_guide/indexing.html#returning-a-view-versus-a-copy\n",
      "  errors=errors,\n"
     ]
    }
   ],
   "source": [
    "period_start = '2020-03-13' #inclusive\n",
    "period_stop = '2020-03-20' #exclusive\n",
    "\n",
    "df_pre_pos = df[(df['date'] < period_stop) & (df['date'] >= period_start) & (df['sentiment'] == 'pos')]\n",
    "df_pre_neu = df[(df['date'] < period_stop) & (df['date'] >= period_start) & (df['sentiment'] == 'neu')]\n",
    "df_pre_neg = df[(df['date'] < period_stop) & (df['date'] >= period_start) & (df['sentiment'] == 'neg')]\n",
    "df_pre_pos.drop(columns=['Unnamed: 0','id','subreddit'],inplace=True)\n",
    "df_pre_neu.drop(columns=['Unnamed: 0','id','subreddit'],inplace=True)\n",
    "df_pre_neg.drop(columns=['Unnamed: 0','id','subreddit'],inplace=True)"
   ]
  },
  {
   "cell_type": "code",
   "execution_count": null,
   "metadata": {},
   "outputs": [],
   "source": [
    "df_pre_pos.loc[:,'cleaned'] = df_pre_pos['body'].apply(clean_text)\n",
    "df_pre_pos.dropna(axis=0,inplace=True)"
   ]
  },
  {
   "cell_type": "code",
   "execution_count": null,
   "metadata": {},
   "outputs": [],
   "source": [
    "df_pre_neu.loc[:,'cleaned'] = df_pre_neu['body'].apply(clean_text)\n",
    "df_pre_neu.dropna(axis=0,inplace=True)"
   ]
  },
  {
   "cell_type": "code",
   "execution_count": 5,
   "metadata": {},
   "outputs": [
    {
     "name": "stderr",
     "output_type": "stream",
     "text": [
      "/home/ec2-user/anaconda3/lib/python3.7/site-packages/pandas/core/indexing.py:844: SettingWithCopyWarning: \n",
      "A value is trying to be set on a copy of a slice from a DataFrame.\n",
      "Try using .loc[row_indexer,col_indexer] = value instead\n",
      "\n",
      "See the caveats in the documentation: https://pandas.pydata.org/pandas-docs/stable/user_guide/indexing.html#returning-a-view-versus-a-copy\n",
      "  self.obj[key] = _infer_fill_value(value)\n",
      "/home/ec2-user/anaconda3/lib/python3.7/site-packages/pandas/core/indexing.py:965: SettingWithCopyWarning: \n",
      "A value is trying to be set on a copy of a slice from a DataFrame.\n",
      "Try using .loc[row_indexer,col_indexer] = value instead\n",
      "\n",
      "See the caveats in the documentation: https://pandas.pydata.org/pandas-docs/stable/user_guide/indexing.html#returning-a-view-versus-a-copy\n",
      "  self.obj[item] = s\n",
      "/home/ec2-user/anaconda3/lib/python3.7/site-packages/ipykernel_launcher.py:2: SettingWithCopyWarning: \n",
      "A value is trying to be set on a copy of a slice from a DataFrame\n",
      "\n",
      "See the caveats in the documentation: https://pandas.pydata.org/pandas-docs/stable/user_guide/indexing.html#returning-a-view-versus-a-copy\n",
      "  \n"
     ]
    }
   ],
   "source": [
    "df_pre_neg.loc[:,'cleaned'] = df_pre_neg['body'].apply(clean_text)\n",
    "df_pre_neg.dropna(axis=0,inplace=True)"
   ]
  },
  {
   "cell_type": "code",
   "execution_count": null,
   "metadata": {},
   "outputs": [],
   "source": [
    "# check the dataframes\n",
    "df_pre_pos"
   ]
  },
  {
   "cell_type": "markdown",
   "metadata": {},
   "source": [
    "## Vectorization"
   ]
  },
  {
   "cell_type": "code",
   "execution_count": 25,
   "metadata": {},
   "outputs": [],
   "source": [
    "tfidfvectorizer = TfidfVectorizer(\n",
    "#      max_features = 1000\n",
    ")"
   ]
  },
  {
   "cell_type": "code",
   "execution_count": 26,
   "metadata": {},
   "outputs": [],
   "source": [
    "tf_vec = tfidfvectorizer.fit_transform(df_pre_neg['cleaned'])"
   ]
  },
  {
   "cell_type": "code",
   "execution_count": 27,
   "metadata": {},
   "outputs": [
    {
     "data": {
      "text/plain": [
       "(10670, 10782)"
      ]
     },
     "execution_count": 27,
     "metadata": {},
     "output_type": "execute_result"
    }
   ],
   "source": [
    "tf_vec.shape"
   ]
  },
  {
   "cell_type": "code",
   "execution_count": null,
   "metadata": {},
   "outputs": [],
   "source": [
    "countvectorizer = CountVectorizer(\n",
    "#     max_df=0.95,\n",
    "#     min_df=2,\n",
    "#     max_features=n_features,\n",
    ")"
   ]
  },
  {
   "cell_type": "code",
   "execution_count": null,
   "metadata": {},
   "outputs": [],
   "source": [
    "count_vec = countvectorizer.fit_transform(df_pre_neg['cleaned'])"
   ]
  },
  {
   "cell_type": "markdown",
   "metadata": {},
   "source": [
    "## Pre-launch LDA"
   ]
  },
  {
   "cell_type": "code",
   "execution_count": null,
   "metadata": {},
   "outputs": [],
   "source": [
    "number_of_topics = 10\n",
    "random_seed = 99\n",
    "ldamodel = LatentDirichletAllocation(\n",
    "    n_components=number_of_topics,\n",
    "    max_iter=50,\n",
    "    learning_method='online',\n",
    "    learning_offset=50.,\n",
    "    random_state=random_seed)"
   ]
  },
  {
   "cell_type": "code",
   "execution_count": null,
   "metadata": {},
   "outputs": [],
   "source": [
    "ldamodel.fit(count_vec)"
   ]
  },
  {
   "cell_type": "code",
   "execution_count": null,
   "metadata": {},
   "outputs": [],
   "source": [
    "top_n_words = 10\n",
    "ct_feature_names = countvectorizer.get_feature_names()\n",
    "show_topics(ldamodel,ct_feature_names,top_n_words)"
   ]
  },
  {
   "cell_type": "code",
   "execution_count": null,
   "metadata": {},
   "outputs": [],
   "source": [
    "p = pyLDAvis.sklearn.prepare(ldamodel, count_vec, countvectorizer)"
   ]
  },
  {
   "cell_type": "code",
   "execution_count": null,
   "metadata": {},
   "outputs": [],
   "source": [
    "# pyLDAvis.save_html(p, 'lda_pre_neg.html')"
   ]
  },
  {
   "cell_type": "markdown",
   "metadata": {},
   "source": [
    "## NMF model"
   ]
  },
  {
   "cell_type": "code",
   "execution_count": 35,
   "metadata": {},
   "outputs": [
    {
     "data": {
      "text/plain": [
       "NMF(alpha=0.0, beta_loss='frobenius', init=None, l1_ratio=0.0, max_iter=2000,\n",
       "    n_components=8, random_state=99, shuffle=False, solver='cd', tol=0.0001,\n",
       "    verbose=0)"
      ]
     },
     "execution_count": 35,
     "metadata": {},
     "output_type": "execute_result"
    }
   ],
   "source": [
    "number_of_topics = 8\n",
    "random_seed = 99\n",
    "nmfmodel = NMF(\n",
    "    n_components=number_of_topics,\n",
    "    max_iter=2000,\n",
    "    random_state=random_seed)\n",
    "nmfmodel.fit(tf_vec)"
   ]
  },
  {
   "cell_type": "code",
   "execution_count": 36,
   "metadata": {},
   "outputs": [
    {
     "name": "stdout",
     "output_type": "stream",
     "text": [
      "Topic #0: time like get would really new bad think know villager want people day town make\n",
      "Topic #1: sorry im man hear mean suck right really omg meant sold know understand loss link\n",
      "Topic #2: order digital cancel copy got mine pre get ordered physical amazon th cancelled delayed store\n",
      "Topic #3: problem thank yeah enjoy bud lt see fun need make afford add opposite adult hope\n",
      "Topic #4: oh damn shit sad god yeah suck hell well hot lol know bad holy gosh\n",
      "Topic #5: game stop people play release early nintendo store come ac day getting even playing week\n",
      "Topic #6: animal crossing played doom never new horizon first spoil isabelle eternal play story itch forget\n",
      "Topic #7: one itch island ac per yet hacked console know got store even hard able buy\n",
      "\n"
     ]
    }
   ],
   "source": [
    "top_n_words = 15\n",
    "tf_feature_names = tfidfvectorizer.get_feature_names()\n",
    "show_topics2(nmfmodel,tf_feature_names,top_n_words)"
   ]
  },
  {
   "cell_type": "markdown",
   "metadata": {},
   "source": [
    "# Launch focus"
   ]
  },
  {
   "cell_type": "code",
   "execution_count": null,
   "metadata": {},
   "outputs": [],
   "source": [
    "period_start = '2020-03-20' #inclusive\n",
    "period_stop = '2020-04-01' #exclusive\n",
    "\n",
    "df_launch = df[(df['date'] < period_stop) & (df['date'] >= period_start)]\n",
    "df_launch.drop(columns=['Unnamed: 0','id','subreddit'],inplace=True)\n",
    "\n",
    "df_launch.loc[:,'cleaned'] = df_launch['body'].apply(clean_text)\n",
    "df_launch.dropna(axis=0,inplace=True)"
   ]
  },
  {
   "cell_type": "code",
   "execution_count": null,
   "metadata": {},
   "outputs": [],
   "source": [
    "# df_launch.to_csv('../data/launch_cleaned_all_sentiment.csv')"
   ]
  },
  {
   "cell_type": "code",
   "execution_count": null,
   "metadata": {},
   "outputs": [],
   "source": [
    "tfidfvectorizer_launch = TfidfVectorizer(\n",
    "#     max_df = 0.99,\n",
    "#     min_df = 0.01,\n",
    "#     max_features = \n",
    ")"
   ]
  },
  {
   "cell_type": "markdown",
   "metadata": {},
   "source": [
    "### Launch - Positive"
   ]
  },
  {
   "cell_type": "code",
   "execution_count": null,
   "metadata": {},
   "outputs": [],
   "source": [
    "sentiment_focus = 'pos'\n",
    "filtered_frame = df_launch[df_launch['sentiment'] == sentiment_focus]['cleaned']\n",
    "\n",
    "tf_vec_launch = tfidfvectorizer_launch.fit_transform(filtered_frame)\n",
    "tf_vec_launch.shape"
   ]
  },
  {
   "cell_type": "code",
   "execution_count": null,
   "metadata": {},
   "outputs": [],
   "source": [
    "number_of_topics = 10\n",
    "random_seed = 99\n",
    "nmfmodel_launch = NMF(\n",
    "    n_components=number_of_topics,\n",
    "    max_iter=2000,\n",
    "    random_state=random_seed)\n",
    "nmfmodel_launch.fit(tf_vec_launch)"
   ]
  },
  {
   "cell_type": "code",
   "execution_count": null,
   "metadata": {},
   "outputs": [],
   "source": [
    "top_n_words = 10\n",
    "tf_feature_names_launch = tfidfvectorizer_launch.get_feature_names()\n",
    "show_topics2(nmfmodel_launch,tf_feature_names_launch,top_n_words)"
   ]
  },
  {
   "cell_type": "markdown",
   "metadata": {},
   "source": [
    "### Launch - Neutral"
   ]
  },
  {
   "cell_type": "code",
   "execution_count": null,
   "metadata": {},
   "outputs": [],
   "source": [
    "sentiment_focus = 'neu'\n",
    "filtered_frame = df_launch[df_launch['sentiment'] == sentiment_focus]['cleaned']\n",
    "\n",
    "tf_vec_launch = tfidfvectorizer_launch.fit_transform(filtered_frame)\n",
    "tf_vec_launch.shape"
   ]
  },
  {
   "cell_type": "code",
   "execution_count": null,
   "metadata": {},
   "outputs": [],
   "source": [
    "number_of_topics = 10\n",
    "random_seed = 99\n",
    "nmfmodel_launch = NMF(\n",
    "    n_components=number_of_topics,\n",
    "    max_iter=2000,\n",
    "    random_state=random_seed)\n",
    "nmfmodel_launch.fit(tf_vec_launch)"
   ]
  },
  {
   "cell_type": "code",
   "execution_count": null,
   "metadata": {},
   "outputs": [],
   "source": [
    "top_n_words = 10\n",
    "tf_feature_names_launch = tfidfvectorizer_launch.get_feature_names()\n",
    "show_topics2(nmfmodel_launch,tf_feature_names_launch,top_n_words)"
   ]
  },
  {
   "cell_type": "markdown",
   "metadata": {},
   "source": [
    "### Launch - Negative"
   ]
  },
  {
   "cell_type": "code",
   "execution_count": null,
   "metadata": {},
   "outputs": [],
   "source": [
    "sentiment_focus = 'neg'\n",
    "filtered_frame = df_launch[df_launch['sentiment'] == sentiment_focus]['cleaned']\n",
    "\n",
    "tf_vec_launch = tfidfvectorizer_launch.fit_transform(filtered_frame)\n",
    "tf_vec_launch.shape"
   ]
  },
  {
   "cell_type": "code",
   "execution_count": null,
   "metadata": {},
   "outputs": [],
   "source": [
    "number_of_topics = 10\n",
    "random_seed = 99\n",
    "nmfmodel_launch = NMF(\n",
    "    n_components=number_of_topics,\n",
    "    max_iter=2000,\n",
    "    random_state=random_seed)\n",
    "nmfmodel_launch.fit(tf_vec_launch)"
   ]
  },
  {
   "cell_type": "code",
   "execution_count": null,
   "metadata": {},
   "outputs": [],
   "source": [
    "top_n_words = 20\n",
    "tf_feature_names_launch = tfidfvectorizer_launch.get_feature_names()\n",
    "show_topics2(nmfmodel_launch,tf_feature_names_launch,top_n_words)"
   ]
  },
  {
   "cell_type": "markdown",
   "metadata": {},
   "source": [
    "# Bunny day focus"
   ]
  },
  {
   "cell_type": "code",
   "execution_count": null,
   "metadata": {},
   "outputs": [],
   "source": [
    "period_start = '2020-04-01' #inclusive\n",
    "period_stop = '2020-04-13' #exclusive\n",
    "\n",
    "df_bunny = df[(df['date'] < period_stop) & (df['date'] >= period_start)]\n",
    "df_bunny.drop(columns=['Unnamed: 0','id','subreddit'],inplace=True)\n",
    "\n",
    "df_bunny.loc[:,'cleaned'] = df_bunny['body'].apply(clean_text)\n",
    "df_bunny.dropna(axis=0,inplace=True)"
   ]
  },
  {
   "cell_type": "code",
   "execution_count": null,
   "metadata": {},
   "outputs": [],
   "source": [
    "# df_bunny.to_csv('../data/bunny_cleaned_all_sentiment.csv')"
   ]
  },
  {
   "cell_type": "markdown",
   "metadata": {},
   "source": [
    "# NMF - Bunny day"
   ]
  },
  {
   "cell_type": "code",
   "execution_count": null,
   "metadata": {},
   "outputs": [],
   "source": [
    "# df_bunny = pd.read_csv('../data/bunny_cleaned_all_sentiment.csv')\n",
    "# df_bunny.dropna(axis=0, inplace=True)"
   ]
  },
  {
   "cell_type": "code",
   "execution_count": null,
   "metadata": {},
   "outputs": [],
   "source": [
    "tfidfvectorizer_bunny = TfidfVectorizer(\n",
    "#     max_df = 0.99,\n",
    "#     min_df = 0.01,\n",
    "#     max_features = \n",
    ")"
   ]
  },
  {
   "cell_type": "markdown",
   "metadata": {},
   "source": [
    "### bunny day - positive"
   ]
  },
  {
   "cell_type": "code",
   "execution_count": null,
   "metadata": {},
   "outputs": [],
   "source": [
    "sentiment_focus = 'pos'\n",
    "filtered_frame = df_bunny[df_bunny['sentiment'] == sentiment_focus]['cleaned']\n",
    "\n",
    "tf_vec_bunny = tfidfvectorizer_bunny.fit_transform(filtered_frame)\n",
    "tf_vec_bunny.shape"
   ]
  },
  {
   "cell_type": "code",
   "execution_count": null,
   "metadata": {},
   "outputs": [],
   "source": [
    "number_of_topics = 10\n",
    "random_seed = 99\n",
    "nmfmodel_bunny = NMF(\n",
    "    n_components=number_of_topics,\n",
    "    max_iter=2000,\n",
    "    random_state=random_seed)\n",
    "nmfmodel_bunny.fit(tf_vec_bunny)"
   ]
  },
  {
   "cell_type": "code",
   "execution_count": null,
   "metadata": {},
   "outputs": [],
   "source": [
    "top_n_words = 10\n",
    "tf_feature_names_bunny = tfidfvectorizer_bunny.get_feature_names()\n",
    "show_topics2(nmfmodel_bunny,tf_feature_names_bunny,top_n_words)"
   ]
  },
  {
   "cell_type": "markdown",
   "metadata": {},
   "source": [
    "### bunny day - neutral"
   ]
  },
  {
   "cell_type": "code",
   "execution_count": null,
   "metadata": {},
   "outputs": [],
   "source": [
    "sentiment_focus = 'neu'\n",
    "filtered_frame = df_bunny[df_bunny['sentiment'] == sentiment_focus]['cleaned']\n",
    "\n",
    "tf_vec_bunny = tfidfvectorizer_bunny.fit_transform(filtered_frame)\n",
    "tf_vec_bunny.shape"
   ]
  },
  {
   "cell_type": "code",
   "execution_count": null,
   "metadata": {},
   "outputs": [],
   "source": [
    "number_of_topics = 10\n",
    "random_seed = 99\n",
    "nmfmodel_bunny = NMF(\n",
    "    n_components=number_of_topics,\n",
    "    max_iter=2000,\n",
    "    random_state=random_seed)\n",
    "nmfmodel_bunny.fit(tf_vec_bunny)"
   ]
  },
  {
   "cell_type": "code",
   "execution_count": null,
   "metadata": {},
   "outputs": [],
   "source": [
    "top_n_words = 10\n",
    "tf_feature_names_bunny = tfidfvectorizer_bunny.get_feature_names()\n",
    "show_topics2(nmfmodel_bunny,tf_feature_names_bunny,top_n_words)"
   ]
  },
  {
   "cell_type": "markdown",
   "metadata": {},
   "source": [
    "### Bunny day - negative"
   ]
  },
  {
   "cell_type": "code",
   "execution_count": null,
   "metadata": {},
   "outputs": [],
   "source": [
    "sentiment_focus = 'neg'\n",
    "filtered_frame = df_bunny[df_bunny['sentiment'] == sentiment_focus]['cleaned']\n",
    "\n",
    "tf_vec_bunny = tfidfvectorizer_bunny.fit_transform(filtered_frame)\n",
    "tf_vec_bunny.shape"
   ]
  },
  {
   "cell_type": "code",
   "execution_count": null,
   "metadata": {},
   "outputs": [],
   "source": [
    "number_of_topics = 10\n",
    "random_seed = 99\n",
    "nmfmodel_bunny = NMF(\n",
    "    n_components=number_of_topics,\n",
    "    max_iter=2000,\n",
    "    random_state=random_seed)\n",
    "nmfmodel_bunny.fit(tf_vec_bunny)"
   ]
  },
  {
   "cell_type": "code",
   "execution_count": null,
   "metadata": {},
   "outputs": [],
   "source": [
    "top_n_words = 20\n",
    "tf_feature_names_bunny = tfidfvectorizer_bunny.get_feature_names()\n",
    "show_topics2(nmfmodel_bunny,tf_feature_names_bunny,top_n_words)"
   ]
  },
  {
   "cell_type": "markdown",
   "metadata": {},
   "source": [
    "# Post Bunny-day"
   ]
  },
  {
   "cell_type": "code",
   "execution_count": null,
   "metadata": {},
   "outputs": [],
   "source": [
    "period_start = '2020-04-13' #inclusive\n",
    "period_stop = '2020-04-23' #exclusive\n",
    "\n",
    "df_postbunny = df[(df['date'] < period_stop) & (df['date'] >= period_start)]\n",
    "df_postbunny.drop(columns=['Unnamed: 0','id','subreddit'],inplace=True)\n",
    "\n",
    "df_postbunny.loc[:,'cleaned'] = df_postbunny['body'].apply(clean_text)\n",
    "df_postbunny.dropna(axis=0,inplace=True)"
   ]
  },
  {
   "cell_type": "code",
   "execution_count": null,
   "metadata": {},
   "outputs": [],
   "source": [
    "tfidfvectorizer_postbunny = TfidfVectorizer(\n",
    "#     max_df = 0.99,\n",
    "#     min_df = 0.01,\n",
    "#     max_features = \n",
    ")"
   ]
  },
  {
   "cell_type": "markdown",
   "metadata": {},
   "source": [
    "### Post-bunny - positive"
   ]
  },
  {
   "cell_type": "code",
   "execution_count": null,
   "metadata": {},
   "outputs": [],
   "source": [
    "sentiment_focus = 'pos'\n",
    "filtered_frame = df_postbunny[df_postbunny['sentiment'] == sentiment_focus]['cleaned']\n",
    "\n",
    "tf_vec_postbunny = tfidfvectorizer_postbunny.fit_transform(filtered_frame)\n",
    "tf_vec_postbunny.shape"
   ]
  },
  {
   "cell_type": "code",
   "execution_count": null,
   "metadata": {},
   "outputs": [],
   "source": [
    "number_of_topics = 10\n",
    "random_seed = 99\n",
    "nmfmodel_postbunny = NMF(\n",
    "    n_components=number_of_topics,\n",
    "    max_iter=2000,\n",
    "    random_state=random_seed)\n",
    "nmfmodel_postbunny.fit(tf_vec_postbunny)"
   ]
  },
  {
   "cell_type": "code",
   "execution_count": null,
   "metadata": {},
   "outputs": [],
   "source": [
    "top_n_words = 10\n",
    "tf_feature_names_postbunny = tfidfvectorizer_postbunny.get_feature_names()\n",
    "show_topics2(nmfmodel_postbunny,tf_feature_names_postbunny,top_n_words)"
   ]
  },
  {
   "cell_type": "markdown",
   "metadata": {},
   "source": [
    "### Post-bunny - neutral"
   ]
  },
  {
   "cell_type": "code",
   "execution_count": null,
   "metadata": {},
   "outputs": [],
   "source": [
    "sentiment_focus = 'neu'\n",
    "filtered_frame = df_postbunny[df_postbunny['sentiment'] == sentiment_focus]['cleaned']\n",
    "\n",
    "tf_vec_postbunny = tfidfvectorizer_postbunny.fit_transform(filtered_frame)\n",
    "tf_vec_postbunny.shape"
   ]
  },
  {
   "cell_type": "code",
   "execution_count": null,
   "metadata": {},
   "outputs": [],
   "source": [
    "number_of_topics = 10\n",
    "random_seed = 99\n",
    "nmfmodel_postbunny = NMF(\n",
    "    n_components=number_of_topics,\n",
    "    max_iter=2000,\n",
    "    random_state=random_seed)\n",
    "nmfmodel_postbunny.fit(tf_vec_postbunny)"
   ]
  },
  {
   "cell_type": "code",
   "execution_count": null,
   "metadata": {},
   "outputs": [],
   "source": [
    "top_n_words = 10\n",
    "tf_feature_names_postbunny = tfidfvectorizer_postbunny.get_feature_names()\n",
    "show_topics2(nmfmodel_postbunny,tf_feature_names_postbunny,top_n_words)"
   ]
  },
  {
   "cell_type": "markdown",
   "metadata": {},
   "source": [
    "### Post-bunny - Negative"
   ]
  },
  {
   "cell_type": "code",
   "execution_count": null,
   "metadata": {},
   "outputs": [],
   "source": [
    "sentiment_focus = 'neg'\n",
    "filtered_frame = df_postbunny[df_postbunny['sentiment'] == sentiment_focus]['cleaned']\n",
    "\n",
    "tf_vec_postbunny = tfidfvectorizer_postbunny.fit_transform(filtered_frame)\n",
    "tf_vec_postbunny.shape"
   ]
  },
  {
   "cell_type": "code",
   "execution_count": null,
   "metadata": {},
   "outputs": [],
   "source": [
    "number_of_topics = 10\n",
    "random_seed = 99\n",
    "nmfmodel_postbunny = NMF(\n",
    "    n_components=number_of_topics,\n",
    "    max_iter=2000,\n",
    "    random_state=random_seed)\n",
    "nmfmodel_postbunny.fit(tf_vec_postbunny)"
   ]
  },
  {
   "cell_type": "code",
   "execution_count": null,
   "metadata": {},
   "outputs": [],
   "source": [
    "top_n_words = 15\n",
    "tf_feature_names_postbunny = tfidfvectorizer_postbunny.get_feature_names()\n",
    "show_topics2(nmfmodel_postbunny,tf_feature_names_postbunny,top_n_words)"
   ]
  },
  {
   "cell_type": "markdown",
   "metadata": {},
   "source": [
    "# Spring update"
   ]
  },
  {
   "cell_type": "code",
   "execution_count": null,
   "metadata": {},
   "outputs": [],
   "source": [
    "period_start = '2020-04-23' #inclusive\n",
    "period_stop = '2020-05-01' #exclusive\n",
    "\n",
    "df_spring = df[(df['date'] < period_stop) & (df['date'] >= period_start)]\n",
    "df_spring.drop(columns=['Unnamed: 0','id','subreddit'],inplace=True)\n",
    "\n",
    "df_spring.loc[:,'cleaned'] = df_spring['body'].apply(clean_text)\n",
    "df_spring.dropna(axis=0,inplace=True)"
   ]
  },
  {
   "cell_type": "code",
   "execution_count": null,
   "metadata": {},
   "outputs": [],
   "source": [
    "tfidfvectorizer_spring = TfidfVectorizer(\n",
    "#     max_df = 0.99,\n",
    "#     min_df = 0.01,\n",
    "#     max_features = \n",
    ")"
   ]
  },
  {
   "cell_type": "markdown",
   "metadata": {},
   "source": [
    "### Spring - positive"
   ]
  },
  {
   "cell_type": "code",
   "execution_count": null,
   "metadata": {},
   "outputs": [],
   "source": [
    "sentiment_focus = 'pos'\n",
    "filtered_frame = df_spring[df_spring['sentiment'] == sentiment_focus]['cleaned']\n",
    "\n",
    "tf_vec_spring = tfidfvectorizer_spring.fit_transform(filtered_frame)\n",
    "tf_vec_spring.shape"
   ]
  },
  {
   "cell_type": "code",
   "execution_count": null,
   "metadata": {},
   "outputs": [],
   "source": [
    "number_of_topics = 10\n",
    "random_seed = 99\n",
    "nmfmodel_spring = NMF(\n",
    "    n_components=number_of_topics,\n",
    "    max_iter=2000,\n",
    "    random_state=random_seed)\n",
    "nmfmodel_spring.fit(tf_vec_spring)"
   ]
  },
  {
   "cell_type": "code",
   "execution_count": null,
   "metadata": {},
   "outputs": [],
   "source": [
    "top_n_words = 10\n",
    "tf_feature_names_spring = tfidfvectorizer_spring.get_feature_names()\n",
    "show_topics2(nmfmodel_spring,tf_feature_names_spring,top_n_words)"
   ]
  },
  {
   "cell_type": "markdown",
   "metadata": {},
   "source": [
    "### Spring - Neutral"
   ]
  },
  {
   "cell_type": "code",
   "execution_count": null,
   "metadata": {},
   "outputs": [],
   "source": [
    "sentiment_focus = 'neu'\n",
    "filtered_frame = df_spring[df_spring['sentiment'] == sentiment_focus]['cleaned']\n",
    "\n",
    "tf_vec_spring = tfidfvectorizer_spring.fit_transform(filtered_frame)\n",
    "tf_vec_spring.shape"
   ]
  },
  {
   "cell_type": "code",
   "execution_count": null,
   "metadata": {},
   "outputs": [],
   "source": [
    "number_of_topics = 10\n",
    "random_seed = 99\n",
    "nmfmodel_spring = NMF(\n",
    "    n_components=number_of_topics,\n",
    "    max_iter=2000,\n",
    "    random_state=random_seed)\n",
    "nmfmodel_spring.fit(tf_vec_spring)"
   ]
  },
  {
   "cell_type": "code",
   "execution_count": null,
   "metadata": {},
   "outputs": [],
   "source": [
    "top_n_words = 10\n",
    "tf_feature_names_spring = tfidfvectorizer_spring.get_feature_names()\n",
    "show_topics2(nmfmodel_spring,tf_feature_names_spring,top_n_words)"
   ]
  },
  {
   "cell_type": "markdown",
   "metadata": {},
   "source": [
    "### Spring - negative"
   ]
  },
  {
   "cell_type": "code",
   "execution_count": null,
   "metadata": {},
   "outputs": [],
   "source": [
    "sentiment_focus = 'neg'\n",
    "filtered_frame = df_spring[df_spring['sentiment'] == sentiment_focus]['cleaned']\n",
    "\n",
    "tf_vec_spring = tfidfvectorizer_spring.fit_transform(filtered_frame)\n",
    "tf_vec_spring.shape"
   ]
  },
  {
   "cell_type": "code",
   "execution_count": null,
   "metadata": {},
   "outputs": [],
   "source": [
    "number_of_topics = 10\n",
    "random_seed = 99\n",
    "nmfmodel_spring = NMF(\n",
    "    n_components=number_of_topics,\n",
    "    max_iter=2000,\n",
    "    random_state=random_seed)\n",
    "nmfmodel_spring.fit(tf_vec_spring)"
   ]
  },
  {
   "cell_type": "code",
   "execution_count": null,
   "metadata": {},
   "outputs": [],
   "source": [
    "top_n_words = 10\n",
    "tf_feature_names_spring = tfidfvectorizer_spring.get_feature_names()\n",
    "show_topics2(nmfmodel_spring,tf_feature_names_spring,top_n_words)"
   ]
  },
  {
   "cell_type": "markdown",
   "metadata": {},
   "source": [
    "# Post May-day"
   ]
  },
  {
   "cell_type": "code",
   "execution_count": null,
   "metadata": {},
   "outputs": [],
   "source": [
    "period_start = '2020-05-01' #inclusive\n",
    "period_stop = '2020-05-09' #exclusive\n",
    "\n",
    "df_may = df[(df['date'] < period_stop) & (df['date'] >= period_start)]\n",
    "df_may.drop(columns=['Unnamed: 0','id','subreddit'],inplace=True)\n",
    "\n",
    "df_may.loc[:,'cleaned'] = df_may['body'].apply(clean_text)\n",
    "df_may.dropna(axis=0,inplace=True)"
   ]
  },
  {
   "cell_type": "code",
   "execution_count": null,
   "metadata": {},
   "outputs": [],
   "source": [
    "tfidfvectorizer_may = TfidfVectorizer(\n",
    "#     max_df = 0.99,\n",
    "#     min_df = 0.01,\n",
    "#     max_features = \n",
    ")"
   ]
  },
  {
   "cell_type": "markdown",
   "metadata": {},
   "source": [
    "### Post May-day - Positive"
   ]
  },
  {
   "cell_type": "code",
   "execution_count": null,
   "metadata": {},
   "outputs": [],
   "source": [
    "sentiment_focus = 'pos'\n",
    "filtered_frame = df_may[df_may['sentiment'] == sentiment_focus]['cleaned']\n",
    "\n",
    "tf_vec_may = tfidfvectorizer_may.fit_transform(filtered_frame)\n",
    "tf_vec_may.shape"
   ]
  },
  {
   "cell_type": "code",
   "execution_count": null,
   "metadata": {},
   "outputs": [],
   "source": [
    "number_of_topics = 10\n",
    "random_seed = 99\n",
    "nmfmodel_may = NMF(\n",
    "    n_components=number_of_topics,\n",
    "    max_iter=2000,\n",
    "    random_state=random_seed)\n",
    "nmfmodel_may.fit(tf_vec_may)"
   ]
  },
  {
   "cell_type": "code",
   "execution_count": null,
   "metadata": {},
   "outputs": [],
   "source": [
    "top_n_words = 10\n",
    "tf_feature_names_may = tfidfvectorizer_may.get_feature_names()\n",
    "show_topics2(nmfmodel_may,tf_feature_names_may,top_n_words)"
   ]
  },
  {
   "cell_type": "markdown",
   "metadata": {},
   "source": [
    "### Post may-day - neutral"
   ]
  },
  {
   "cell_type": "code",
   "execution_count": null,
   "metadata": {},
   "outputs": [],
   "source": [
    "sentiment_focus = 'neu'\n",
    "filtered_frame = df_may[df_may['sentiment'] == sentiment_focus]['cleaned']\n",
    "\n",
    "tf_vec_may = tfidfvectorizer_may.fit_transform(filtered_frame)\n",
    "tf_vec_may.shape"
   ]
  },
  {
   "cell_type": "code",
   "execution_count": null,
   "metadata": {},
   "outputs": [],
   "source": [
    "number_of_topics = 10\n",
    "random_seed = 99\n",
    "nmfmodel_may = NMF(\n",
    "    n_components=number_of_topics,\n",
    "    max_iter=2000,\n",
    "    random_state=random_seed)\n",
    "nmfmodel_may.fit(tf_vec_may)"
   ]
  },
  {
   "cell_type": "code",
   "execution_count": null,
   "metadata": {},
   "outputs": [],
   "source": [
    "top_n_words = 10\n",
    "tf_feature_names_may = tfidfvectorizer_may.get_feature_names()\n",
    "show_topics2(nmfmodel_may,tf_feature_names_may,top_n_words)"
   ]
  },
  {
   "cell_type": "markdown",
   "metadata": {},
   "source": [
    "### Post may-day - negative"
   ]
  },
  {
   "cell_type": "code",
   "execution_count": null,
   "metadata": {},
   "outputs": [],
   "source": [
    "sentiment_focus = 'neg'\n",
    "filtered_frame = df_may[df_may['sentiment'] == sentiment_focus]['cleaned']\n",
    "\n",
    "tf_vec_may = tfidfvectorizer_may.fit_transform(filtered_frame)\n",
    "tf_vec_may.shape"
   ]
  },
  {
   "cell_type": "code",
   "execution_count": null,
   "metadata": {},
   "outputs": [],
   "source": [
    "number_of_topics = 10\n",
    "random_seed = 99\n",
    "nmfmodel_may = NMF(\n",
    "    n_components=number_of_topics,\n",
    "    max_iter=2000,\n",
    "    random_state=random_seed)\n",
    "nmfmodel_may.fit(tf_vec_may)"
   ]
  },
  {
   "cell_type": "code",
   "execution_count": null,
   "metadata": {},
   "outputs": [],
   "source": [
    "top_n_words = 10\n",
    "tf_feature_names_may = tfidfvectorizer_may.get_feature_names()\n",
    "show_topics2(nmfmodel_may,tf_feature_names_may,top_n_words)"
   ]
  }
 ],
 "metadata": {
  "kernelspec": {
   "display_name": "Python 3",
   "language": "python",
   "name": "python3"
  },
  "language_info": {
   "codemirror_mode": {
    "name": "ipython",
    "version": 3
   },
   "file_extension": ".py",
   "mimetype": "text/x-python",
   "name": "python",
   "nbconvert_exporter": "python",
   "pygments_lexer": "ipython3",
   "version": "3.7.6"
  }
 },
 "nbformat": 4,
 "nbformat_minor": 4
}
