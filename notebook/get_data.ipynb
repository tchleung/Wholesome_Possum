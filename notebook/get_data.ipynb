{
 "cells": [
  {
   "cell_type": "markdown",
   "metadata": {},
   "source": [
    "# Importing necessary library"
   ]
  },
  {
   "cell_type": "code",
   "execution_count": 1,
   "metadata": {},
   "outputs": [],
   "source": [
    "import os\n",
    "import pandas as pd\n",
    "import datetime as dt\n",
    "from psaw import PushshiftAPI\n",
    "api = PushshiftAPI()"
   ]
  },
  {
   "cell_type": "markdown",
   "metadata": {},
   "source": [
    "# Calling the API and turn into DF"
   ]
  },
  {
   "cell_type": "code",
   "execution_count": 10,
   "metadata": {},
   "outputs": [],
   "source": [
    "start_epoch = int(dt.datetime(2020, 5, 1).timestamp())\n",
    "end_epoch = int(dt.datetime(2020, 5, 8).timestamp())\n",
    "subreddit = 'animalcrossing'\n",
    "\n",
    "gen = api.search_comments(after=start_epoch,\n",
    "                          before=end_epoch,\n",
    "                          subreddit=subreddit,\n",
    "                          filter=['id', 'author', 'created_utc', 'body', 'subreddit'],\n",
    "                          size=500)\n",
    "\n",
    "df = pd.DataFrame([obj.d_ for obj in gen])"
   ]
  },
  {
   "cell_type": "code",
   "execution_count": 11,
   "metadata": {},
   "outputs": [
    {
     "data": {
      "text/html": [
       "<div>\n",
       "<style scoped>\n",
       "    .dataframe tbody tr th:only-of-type {\n",
       "        vertical-align: middle;\n",
       "    }\n",
       "\n",
       "    .dataframe tbody tr th {\n",
       "        vertical-align: top;\n",
       "    }\n",
       "\n",
       "    .dataframe thead th {\n",
       "        text-align: right;\n",
       "    }\n",
       "</style>\n",
       "<table border=\"1\" class=\"dataframe\">\n",
       "  <thead>\n",
       "    <tr style=\"text-align: right;\">\n",
       "      <th></th>\n",
       "      <th>author</th>\n",
       "      <th>body</th>\n",
       "      <th>created_utc</th>\n",
       "      <th>id</th>\n",
       "      <th>subreddit</th>\n",
       "      <th>created</th>\n",
       "    </tr>\n",
       "  </thead>\n",
       "  <tbody>\n",
       "    <tr>\n",
       "      <td>270889</td>\n",
       "      <td>selena-bean</td>\n",
       "      <td>1) Terraforming changes layout of your island....</td>\n",
       "      <td>1588316402</td>\n",
       "      <td>fp54wjt</td>\n",
       "      <td>AnimalCrossing</td>\n",
       "      <td>1.588342e+09</td>\n",
       "    </tr>\n",
       "    <tr>\n",
       "      <td>270888</td>\n",
       "      <td>Ambiguous_Anti</td>\n",
       "      <td>Yes very good this pleases me 8/8 you did great</td>\n",
       "      <td>1588316406</td>\n",
       "      <td>fp54wou</td>\n",
       "      <td>AnimalCrossing</td>\n",
       "      <td>1.588342e+09</td>\n",
       "    </tr>\n",
       "    <tr>\n",
       "      <td>270887</td>\n",
       "      <td>GamerZone809</td>\n",
       "      <td>Oh dang, thanks for telling me</td>\n",
       "      <td>1588316407</td>\n",
       "      <td>fp54wqp</td>\n",
       "      <td>AnimalCrossing</td>\n",
       "      <td>1.588342e+09</td>\n",
       "    </tr>\n",
       "    <tr>\n",
       "      <td>270886</td>\n",
       "      <td>Groovejette</td>\n",
       "      <td>why they didn't let us sing as well :(</td>\n",
       "      <td>1588316408</td>\n",
       "      <td>fp54wrg</td>\n",
       "      <td>AnimalCrossing</td>\n",
       "      <td>1.588342e+09</td>\n",
       "    </tr>\n",
       "    <tr>\n",
       "      <td>270885</td>\n",
       "      <td>CircuitBreakerD</td>\n",
       "      <td>She an ugly ass slut but she's my best friend.</td>\n",
       "      <td>1588316408</td>\n",
       "      <td>fp54wrw</td>\n",
       "      <td>AnimalCrossing</td>\n",
       "      <td>1.588342e+09</td>\n",
       "    </tr>\n",
       "    <tr>\n",
       "      <td>...</td>\n",
       "      <td>...</td>\n",
       "      <td>...</td>\n",
       "      <td>...</td>\n",
       "      <td>...</td>\n",
       "      <td>...</td>\n",
       "      <td>...</td>\n",
       "    </tr>\n",
       "    <tr>\n",
       "      <td>4</td>\n",
       "      <td>Srcsqwrn</td>\n",
       "      <td>Thing is, as long as you're near a cliff, or a...</td>\n",
       "      <td>1588921188</td>\n",
       "      <td>fpurewr</td>\n",
       "      <td>AnimalCrossing</td>\n",
       "      <td>1.588946e+09</td>\n",
       "    </tr>\n",
       "    <tr>\n",
       "      <td>3</td>\n",
       "      <td>[deleted]</td>\n",
       "      <td>[removed]</td>\n",
       "      <td>1588921191</td>\n",
       "      <td>fpurf0u</td>\n",
       "      <td>AnimalCrossing</td>\n",
       "      <td>1.588946e+09</td>\n",
       "    </tr>\n",
       "    <tr>\n",
       "      <td>2</td>\n",
       "      <td>NewEnglandHappyLad</td>\n",
       "      <td>No one cares. This game is dumb.</td>\n",
       "      <td>1588921193</td>\n",
       "      <td>fpurf45</td>\n",
       "      <td>AnimalCrossing</td>\n",
       "      <td>1.588946e+09</td>\n",
       "    </tr>\n",
       "    <tr>\n",
       "      <td>1</td>\n",
       "      <td>Goldstin</td>\n",
       "      <td>looking to catalog the flat screen tv and wall...</td>\n",
       "      <td>1588921195</td>\n",
       "      <td>fpurf71</td>\n",
       "      <td>AnimalCrossing</td>\n",
       "      <td>1.588946e+09</td>\n",
       "    </tr>\n",
       "    <tr>\n",
       "      <td>0</td>\n",
       "      <td>imfricknawkward1031</td>\n",
       "      <td>It’s mumbo’s island</td>\n",
       "      <td>1588921197</td>\n",
       "      <td>fpurf98</td>\n",
       "      <td>AnimalCrossing</td>\n",
       "      <td>1.588946e+09</td>\n",
       "    </tr>\n",
       "  </tbody>\n",
       "</table>\n",
       "<p>270890 rows × 6 columns</p>\n",
       "</div>"
      ],
      "text/plain": [
       "                     author  \\\n",
       "270889          selena-bean   \n",
       "270888       Ambiguous_Anti   \n",
       "270887         GamerZone809   \n",
       "270886          Groovejette   \n",
       "270885      CircuitBreakerD   \n",
       "...                     ...   \n",
       "4                  Srcsqwrn   \n",
       "3                 [deleted]   \n",
       "2        NewEnglandHappyLad   \n",
       "1                  Goldstin   \n",
       "0       imfricknawkward1031   \n",
       "\n",
       "                                                     body  created_utc  \\\n",
       "270889  1) Terraforming changes layout of your island....   1588316402   \n",
       "270888    Yes very good this pleases me 8/8 you did great   1588316406   \n",
       "270887                     Oh dang, thanks for telling me   1588316407   \n",
       "270886             why they didn't let us sing as well :(   1588316408   \n",
       "270885     She an ugly ass slut but she's my best friend.   1588316408   \n",
       "...                                                   ...          ...   \n",
       "4       Thing is, as long as you're near a cliff, or a...   1588921188   \n",
       "3                                               [removed]   1588921191   \n",
       "2                        No one cares. This game is dumb.   1588921193   \n",
       "1       looking to catalog the flat screen tv and wall...   1588921195   \n",
       "0                                     It’s mumbo’s island   1588921197   \n",
       "\n",
       "             id       subreddit       created  \n",
       "270889  fp54wjt  AnimalCrossing  1.588342e+09  \n",
       "270888  fp54wou  AnimalCrossing  1.588342e+09  \n",
       "270887  fp54wqp  AnimalCrossing  1.588342e+09  \n",
       "270886  fp54wrg  AnimalCrossing  1.588342e+09  \n",
       "270885  fp54wrw  AnimalCrossing  1.588342e+09  \n",
       "...         ...             ...           ...  \n",
       "4       fpurewr  AnimalCrossing  1.588946e+09  \n",
       "3       fpurf0u  AnimalCrossing  1.588946e+09  \n",
       "2       fpurf45  AnimalCrossing  1.588946e+09  \n",
       "1       fpurf71  AnimalCrossing  1.588946e+09  \n",
       "0       fpurf98  AnimalCrossing  1.588946e+09  \n",
       "\n",
       "[270890 rows x 6 columns]"
      ]
     },
     "execution_count": 11,
     "metadata": {},
     "output_type": "execute_result"
    }
   ],
   "source": [
    "df.sort_values(by='created_utc',axis=0,inplace=True)\n",
    "df"
   ]
  },
  {
   "cell_type": "code",
   "execution_count": 12,
   "metadata": {},
   "outputs": [
    {
     "data": {
      "text/plain": [
       "(datetime.datetime(2020, 5, 7, 23, 59, 57),\n",
       " datetime.datetime(2020, 5, 1, 0, 0, 2))"
      ]
     },
     "execution_count": 12,
     "metadata": {},
     "output_type": "execute_result"
    }
   ],
   "source": [
    "# Check the beginning and end point of the payload\n",
    "def check_time(df):\n",
    "    start_pt = df['created_utc'][0]\n",
    "    end_pt = df['created_utc'][len(df['created_utc'])-1]\n",
    "    return dt.datetime.fromtimestamp(start_pt), dt.datetime.fromtimestamp(end_pt)\n",
    "check_time(df)"
   ]
  },
  {
   "cell_type": "code",
   "execution_count": 13,
   "metadata": {},
   "outputs": [
    {
     "data": {
      "text/plain": [
       "270890"
      ]
     },
     "execution_count": 13,
     "metadata": {},
     "output_type": "execute_result"
    }
   ],
   "source": [
    "# Verify if all the IDs are unique\n",
    "len(df['id'].unique())"
   ]
  },
  {
   "cell_type": "markdown",
   "metadata": {},
   "source": [
    "# Saving the CSV file"
   ]
  },
  {
   "cell_type": "code",
   "execution_count": 14,
   "metadata": {},
   "outputs": [
    {
     "data": {
      "text/plain": [
       "'../data/ac_comments_week_ending_2020_05_08.csv'"
      ]
     },
     "execution_count": 14,
     "metadata": {},
     "output_type": "execute_result"
    }
   ],
   "source": [
    "end_day = dt.datetime(2020,5,8).strftime(\"%Y_%m_%d\")\n",
    "filename = 'ac_comments_week_ending_'+end_day+'.csv'\n",
    "path = \"../data/\"\n",
    "fullpath = os.path.join(path, filename)\n",
    "fullpath"
   ]
  },
  {
   "cell_type": "code",
   "execution_count": 15,
   "metadata": {},
   "outputs": [],
   "source": [
    "df.to_csv(fullpath)"
   ]
  }
 ],
 "metadata": {
  "kernelspec": {
   "display_name": "Python 3",
   "language": "python",
   "name": "python3"
  },
  "language_info": {
   "codemirror_mode": {
    "name": "ipython",
    "version": 3
   },
   "file_extension": ".py",
   "mimetype": "text/x-python",
   "name": "python",
   "nbconvert_exporter": "python",
   "pygments_lexer": "ipython3",
   "version": "3.7.4"
  }
 },
 "nbformat": 4,
 "nbformat_minor": 4
}
